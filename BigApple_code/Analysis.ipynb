{
  "cells": [
    {
      "cell_type": "code",
      "execution_count": 1,
      "metadata": {
        "id": "hkUPlZwPnvqL"
      },
      "outputs": [],
      "source": [
        "import numpy as np\n",
        "import pandas as pd\n",
        "import seaborn as sns\n",
        "import matplotlib.pyplot as plt\n"
      ]
    },
    {
      "cell_type": "code",
      "execution_count": 2,
      "metadata": {
        "colab": {
          "base_uri": "https://localhost:8080/"
        },
        "id": "nqSEcU7en_w4",
        "outputId": "9a4b2822-d069-4bb1-f422-fbda3487ec0d"
      },
      "outputs": [
        {
          "name": "stderr",
          "output_type": "stream",
          "text": [
            "/usr/local/lib/python3.7/dist-packages/IPython/core/interactiveshell.py:2882: DtypeWarning: Columns (17) have mixed types.Specify dtype option on import or set low_memory=False.\n",
            "  exec(code_obj, self.user_global_ns, self.user_ns)\n"
          ]
        }
      ],
      "source": [
        "kr=pd.read_csv(\"Inside_airbnb_NYC_dataset.csv\")"
      ]
    },
    {
      "cell_type": "markdown",
      "metadata": {
        "id": "u7vK9MeMj8T7"
      },
      "source": [
        "# New section"
      ]
    },
    {
      "cell_type": "markdown",
      "metadata": {
        "id": "R-2tc74G4tOO"
      },
      "source": [
        "how does availability vary in the neighbourhood\n"
      ]
    },
    {
      "cell_type": "code",
      "execution_count": 4,
      "metadata": {
        "colab": {
          "base_uri": "https://localhost:8080/"
        },
        "id": "2ZNxJmoTzC-N",
        "outputId": "0396a46f-0a5c-4407-d544-95e3930d0038"
      },
      "outputs": [
        {
          "data": {
            "text/plain": [
              "Manhattan        16781\n",
              "Brooklyn         14716\n",
              "Queens            5323\n",
              "Bronx             1104\n",
              "Staten Island      353\n",
              "Name: neighbourhood_group, dtype: int64"
            ]
          },
          "execution_count": 4,
          "metadata": {},
          "output_type": "execute_result"
        }
      ],
      "source": [
        "kr['neighbourhood_group'].value_counts()"
      ]
    },
    {
      "cell_type": "code",
      "execution_count": 5,
      "metadata": {
        "colab": {
          "base_uri": "https://localhost:8080/"
        },
        "id": "9pU5-3puumyQ",
        "outputId": "e6084b93-7323-45cd-84f3-16350416dd5d"
      },
      "outputs": [
        {
          "data": {
            "text/plain": [
              "Entire home/apt    20397\n",
              "Private room       17098\n",
              "Shared room          572\n",
              "Hotel room           210\n",
              "Name: room_type, dtype: int64"
            ]
          },
          "execution_count": 5,
          "metadata": {},
          "output_type": "execute_result"
        }
      ],
      "source": [
        "kr['room_type'].value_counts()"
      ]
    },
    {
      "cell_type": "code",
      "execution_count": 6,
      "metadata": {
        "colab": {
          "base_uri": "https://localhost:8080/",
          "height": 461
        },
        "id": "pQbwZed4oCYU",
        "outputId": "f5daa8f0-08c0-490c-d07d-65ad174a6eac"
      },
      "outputs": [
        {
          "data": {
            "text/html": [
              "\n",
              "  <div id=\"df-8293e384-bb05-42b9-854a-a61bfdeab8f2\">\n",
              "    <div class=\"colab-df-container\">\n",
              "      <div>\n",
              "<style scoped>\n",
              "    .dataframe tbody tr th:only-of-type {\n",
              "        vertical-align: middle;\n",
              "    }\n",
              "\n",
              "    .dataframe tbody tr th {\n",
              "        vertical-align: top;\n",
              "    }\n",
              "\n",
              "    .dataframe thead th {\n",
              "        text-align: right;\n",
              "    }\n",
              "</style>\n",
              "<table border=\"1\" class=\"dataframe\">\n",
              "  <thead>\n",
              "    <tr style=\"text-align: right;\">\n",
              "      <th></th>\n",
              "      <th>id</th>\n",
              "      <th>name</th>\n",
              "      <th>host_id</th>\n",
              "      <th>host_name</th>\n",
              "      <th>neighbourhood_group</th>\n",
              "      <th>neighbourhood</th>\n",
              "      <th>latitude</th>\n",
              "      <th>longitude</th>\n",
              "      <th>room_type</th>\n",
              "      <th>price</th>\n",
              "      <th>minimum_nights</th>\n",
              "      <th>number_of_reviews</th>\n",
              "      <th>last_review</th>\n",
              "      <th>reviews_per_month</th>\n",
              "      <th>calculated_host_listings_count</th>\n",
              "      <th>availability_365</th>\n",
              "      <th>number_of_reviews_ltm</th>\n",
              "      <th>license</th>\n",
              "    </tr>\n",
              "  </thead>\n",
              "  <tbody>\n",
              "    <tr>\n",
              "      <th>0</th>\n",
              "      <td>2595</td>\n",
              "      <td>Skylit Midtown Castle</td>\n",
              "      <td>2845</td>\n",
              "      <td>Jennifer</td>\n",
              "      <td>Manhattan</td>\n",
              "      <td>Midtown</td>\n",
              "      <td>40.75356</td>\n",
              "      <td>-73.98559</td>\n",
              "      <td>Entire home/apt</td>\n",
              "      <td>150</td>\n",
              "      <td>30</td>\n",
              "      <td>48</td>\n",
              "      <td>11/4/2019</td>\n",
              "      <td>0.33</td>\n",
              "      <td>3</td>\n",
              "      <td>338</td>\n",
              "      <td>0</td>\n",
              "      <td>NaN</td>\n",
              "    </tr>\n",
              "    <tr>\n",
              "      <th>1</th>\n",
              "      <td>3831</td>\n",
              "      <td>Whole flr w/private bdrm, bath &amp; kitchen(pls r...</td>\n",
              "      <td>4869</td>\n",
              "      <td>LisaRoxanne</td>\n",
              "      <td>Brooklyn</td>\n",
              "      <td>Bedford-Stuyvesant</td>\n",
              "      <td>40.68494</td>\n",
              "      <td>-73.95765</td>\n",
              "      <td>Entire home/apt</td>\n",
              "      <td>75</td>\n",
              "      <td>1</td>\n",
              "      <td>409</td>\n",
              "      <td>10/22/2021</td>\n",
              "      <td>4.86</td>\n",
              "      <td>1</td>\n",
              "      <td>194</td>\n",
              "      <td>32</td>\n",
              "      <td>NaN</td>\n",
              "    </tr>\n",
              "    <tr>\n",
              "      <th>2</th>\n",
              "      <td>5121</td>\n",
              "      <td>BlissArtsSpace!</td>\n",
              "      <td>7356</td>\n",
              "      <td>Garon</td>\n",
              "      <td>Brooklyn</td>\n",
              "      <td>Bedford-Stuyvesant</td>\n",
              "      <td>40.68535</td>\n",
              "      <td>-73.95512</td>\n",
              "      <td>Private room</td>\n",
              "      <td>60</td>\n",
              "      <td>30</td>\n",
              "      <td>50</td>\n",
              "      <td>6/5/2016</td>\n",
              "      <td>0.52</td>\n",
              "      <td>2</td>\n",
              "      <td>365</td>\n",
              "      <td>0</td>\n",
              "      <td>NaN</td>\n",
              "    </tr>\n",
              "    <tr>\n",
              "      <th>3</th>\n",
              "      <td>5136</td>\n",
              "      <td>Spacious Brooklyn Duplex, Patio + Garden</td>\n",
              "      <td>7378</td>\n",
              "      <td>Rebecca</td>\n",
              "      <td>Brooklyn</td>\n",
              "      <td>Sunset Park</td>\n",
              "      <td>40.66265</td>\n",
              "      <td>-73.99454</td>\n",
              "      <td>Entire home/apt</td>\n",
              "      <td>275</td>\n",
              "      <td>5</td>\n",
              "      <td>2</td>\n",
              "      <td>8/8/2021</td>\n",
              "      <td>0.02</td>\n",
              "      <td>1</td>\n",
              "      <td>123</td>\n",
              "      <td>1</td>\n",
              "      <td>NaN</td>\n",
              "    </tr>\n",
              "    <tr>\n",
              "      <th>4</th>\n",
              "      <td>5178</td>\n",
              "      <td>Large Furnished Room Near B'way</td>\n",
              "      <td>8967</td>\n",
              "      <td>Shunichi</td>\n",
              "      <td>Manhattan</td>\n",
              "      <td>Midtown</td>\n",
              "      <td>40.76457</td>\n",
              "      <td>-73.98317</td>\n",
              "      <td>Private room</td>\n",
              "      <td>68</td>\n",
              "      <td>2</td>\n",
              "      <td>507</td>\n",
              "      <td>11/8/2021</td>\n",
              "      <td>3.68</td>\n",
              "      <td>1</td>\n",
              "      <td>192</td>\n",
              "      <td>33</td>\n",
              "      <td>NaN</td>\n",
              "    </tr>\n",
              "  </tbody>\n",
              "</table>\n",
              "</div>\n",
              "      <button class=\"colab-df-convert\" onclick=\"convertToInteractive('df-8293e384-bb05-42b9-854a-a61bfdeab8f2')\"\n",
              "              title=\"Convert this dataframe to an interactive table.\"\n",
              "              style=\"display:none;\">\n",
              "        \n",
              "  <svg xmlns=\"http://www.w3.org/2000/svg\" height=\"24px\"viewBox=\"0 0 24 24\"\n",
              "       width=\"24px\">\n",
              "    <path d=\"M0 0h24v24H0V0z\" fill=\"none\"/>\n",
              "    <path d=\"M18.56 5.44l.94 2.06.94-2.06 2.06-.94-2.06-.94-.94-2.06-.94 2.06-2.06.94zm-11 1L8.5 8.5l.94-2.06 2.06-.94-2.06-.94L8.5 2.5l-.94 2.06-2.06.94zm10 10l.94 2.06.94-2.06 2.06-.94-2.06-.94-.94-2.06-.94 2.06-2.06.94z\"/><path d=\"M17.41 7.96l-1.37-1.37c-.4-.4-.92-.59-1.43-.59-.52 0-1.04.2-1.43.59L10.3 9.45l-7.72 7.72c-.78.78-.78 2.05 0 2.83L4 21.41c.39.39.9.59 1.41.59.51 0 1.02-.2 1.41-.59l7.78-7.78 2.81-2.81c.8-.78.8-2.07 0-2.86zM5.41 20L4 18.59l7.72-7.72 1.47 1.35L5.41 20z\"/>\n",
              "  </svg>\n",
              "      </button>\n",
              "      \n",
              "  <style>\n",
              "    .colab-df-container {\n",
              "      display:flex;\n",
              "      flex-wrap:wrap;\n",
              "      gap: 12px;\n",
              "    }\n",
              "\n",
              "    .colab-df-convert {\n",
              "      background-color: #E8F0FE;\n",
              "      border: none;\n",
              "      border-radius: 50%;\n",
              "      cursor: pointer;\n",
              "      display: none;\n",
              "      fill: #1967D2;\n",
              "      height: 32px;\n",
              "      padding: 0 0 0 0;\n",
              "      width: 32px;\n",
              "    }\n",
              "\n",
              "    .colab-df-convert:hover {\n",
              "      background-color: #E2EBFA;\n",
              "      box-shadow: 0px 1px 2px rgba(60, 64, 67, 0.3), 0px 1px 3px 1px rgba(60, 64, 67, 0.15);\n",
              "      fill: #174EA6;\n",
              "    }\n",
              "\n",
              "    [theme=dark] .colab-df-convert {\n",
              "      background-color: #3B4455;\n",
              "      fill: #D2E3FC;\n",
              "    }\n",
              "\n",
              "    [theme=dark] .colab-df-convert:hover {\n",
              "      background-color: #434B5C;\n",
              "      box-shadow: 0px 1px 3px 1px rgba(0, 0, 0, 0.15);\n",
              "      filter: drop-shadow(0px 1px 2px rgba(0, 0, 0, 0.3));\n",
              "      fill: #FFFFFF;\n",
              "    }\n",
              "  </style>\n",
              "\n",
              "      <script>\n",
              "        const buttonEl =\n",
              "          document.querySelector('#df-8293e384-bb05-42b9-854a-a61bfdeab8f2 button.colab-df-convert');\n",
              "        buttonEl.style.display =\n",
              "          google.colab.kernel.accessAllowed ? 'block' : 'none';\n",
              "\n",
              "        async function convertToInteractive(key) {\n",
              "          const element = document.querySelector('#df-8293e384-bb05-42b9-854a-a61bfdeab8f2');\n",
              "          const dataTable =\n",
              "            await google.colab.kernel.invokeFunction('convertToInteractive',\n",
              "                                                     [key], {});\n",
              "          if (!dataTable) return;\n",
              "\n",
              "          const docLinkHtml = 'Like what you see? Visit the ' +\n",
              "            '<a target=\"_blank\" href=https://colab.research.google.com/notebooks/data_table.ipynb>data table notebook</a>'\n",
              "            + ' to learn more about interactive tables.';\n",
              "          element.innerHTML = '';\n",
              "          dataTable['output_type'] = 'display_data';\n",
              "          await google.colab.output.renderOutput(dataTable, element);\n",
              "          const docLink = document.createElement('div');\n",
              "          docLink.innerHTML = docLinkHtml;\n",
              "          element.appendChild(docLink);\n",
              "        }\n",
              "      </script>\n",
              "    </div>\n",
              "  </div>\n",
              "  "
            ],
            "text/plain": [
              "     id                                               name  host_id  \\\n",
              "0  2595                              Skylit Midtown Castle     2845   \n",
              "1  3831  Whole flr w/private bdrm, bath & kitchen(pls r...     4869   \n",
              "2  5121                                    BlissArtsSpace!     7356   \n",
              "3  5136           Spacious Brooklyn Duplex, Patio + Garden     7378   \n",
              "4  5178                   Large Furnished Room Near B'way　     8967   \n",
              "\n",
              "     host_name neighbourhood_group       neighbourhood  latitude  longitude  \\\n",
              "0     Jennifer           Manhattan             Midtown  40.75356  -73.98559   \n",
              "1  LisaRoxanne            Brooklyn  Bedford-Stuyvesant  40.68494  -73.95765   \n",
              "2        Garon            Brooklyn  Bedford-Stuyvesant  40.68535  -73.95512   \n",
              "3      Rebecca            Brooklyn         Sunset Park  40.66265  -73.99454   \n",
              "4     Shunichi           Manhattan             Midtown  40.76457  -73.98317   \n",
              "\n",
              "         room_type  price  minimum_nights  number_of_reviews last_review  \\\n",
              "0  Entire home/apt    150              30                 48   11/4/2019   \n",
              "1  Entire home/apt     75               1                409  10/22/2021   \n",
              "2     Private room     60              30                 50    6/5/2016   \n",
              "3  Entire home/apt    275               5                  2    8/8/2021   \n",
              "4     Private room     68               2                507   11/8/2021   \n",
              "\n",
              "   reviews_per_month  calculated_host_listings_count  availability_365  \\\n",
              "0               0.33                               3               338   \n",
              "1               4.86                               1               194   \n",
              "2               0.52                               2               365   \n",
              "3               0.02                               1               123   \n",
              "4               3.68                               1               192   \n",
              "\n",
              "   number_of_reviews_ltm license  \n",
              "0                      0     NaN  \n",
              "1                     32     NaN  \n",
              "2                      0     NaN  \n",
              "3                      1     NaN  \n",
              "4                     33     NaN  "
            ]
          },
          "execution_count": 6,
          "metadata": {},
          "output_type": "execute_result"
        }
      ],
      "source": [
        "kr.head()"
      ]
    },
    {
      "cell_type": "code",
      "execution_count": 7,
      "metadata": {
        "colab": {
          "base_uri": "https://localhost:8080/"
        },
        "id": "xTVJTWqjoSDy",
        "outputId": "d00cdf9a-85b5-4764-e595-d8f45f05c6ee"
      },
      "outputs": [
        {
          "data": {
            "text/plain": [
              "(38277, 18)"
            ]
          },
          "execution_count": 7,
          "metadata": {},
          "output_type": "execute_result"
        }
      ],
      "source": [
        "kr.shape"
      ]
    },
    {
      "cell_type": "code",
      "execution_count": 8,
      "metadata": {
        "colab": {
          "base_uri": "https://localhost:8080/"
        },
        "id": "ORzRHxqJoYmg",
        "outputId": "c8600eb4-e949-4765-aea0-3fd9683724a7"
      },
      "outputs": [
        {
          "data": {
            "text/plain": [
              "id                                  int64\n",
              "name                               object\n",
              "host_id                             int64\n",
              "host_name                          object\n",
              "neighbourhood_group                object\n",
              "neighbourhood                      object\n",
              "latitude                          float64\n",
              "longitude                         float64\n",
              "room_type                          object\n",
              "price                               int64\n",
              "minimum_nights                      int64\n",
              "number_of_reviews                   int64\n",
              "last_review                        object\n",
              "reviews_per_month                 float64\n",
              "calculated_host_listings_count      int64\n",
              "availability_365                    int64\n",
              "number_of_reviews_ltm               int64\n",
              "license                            object\n",
              "dtype: object"
            ]
          },
          "execution_count": 8,
          "metadata": {},
          "output_type": "execute_result"
        }
      ],
      "source": [
        "kr.dtypes"
      ]
    },
    {
      "cell_type": "code",
      "execution_count": 9,
      "metadata": {
        "colab": {
          "base_uri": "https://localhost:8080/"
        },
        "id": "FQDbJ7JfobRD",
        "outputId": "5147f957-f058-4248-8637-d0c699018b2e"
      },
      "outputs": [
        {
          "data": {
            "text/plain": [
              "id                                    0\n",
              "name                                 13\n",
              "host_id                               0\n",
              "host_name                            34\n",
              "neighbourhood_group                   0\n",
              "neighbourhood                         0\n",
              "latitude                              0\n",
              "longitude                             0\n",
              "room_type                             0\n",
              "price                                 0\n",
              "minimum_nights                        0\n",
              "number_of_reviews                     0\n",
              "last_review                        9504\n",
              "reviews_per_month                  9504\n",
              "calculated_host_listings_count        0\n",
              "availability_365                      0\n",
              "number_of_reviews_ltm                 0\n",
              "license                           38276\n",
              "dtype: int64"
            ]
          },
          "execution_count": 9,
          "metadata": {},
          "output_type": "execute_result"
        }
      ],
      "source": [
        "kr.isnull().sum()"
      ]
    },
    {
      "cell_type": "code",
      "execution_count": 10,
      "metadata": {
        "colab": {
          "base_uri": "https://localhost:8080/"
        },
        "id": "z2zCoNphoecb",
        "outputId": "e9818787-6fdd-4ae8-8777-5d5dca82fab6"
      },
      "outputs": [
        {
          "data": {
            "text/plain": [
              "id                                   0\n",
              "name                                13\n",
              "host_id                              0\n",
              "host_name                           34\n",
              "neighbourhood_group                  0\n",
              "neighbourhood                        0\n",
              "latitude                             0\n",
              "longitude                            0\n",
              "room_type                            0\n",
              "price                                0\n",
              "minimum_nights                       0\n",
              "number_of_reviews                    0\n",
              "reviews_per_month                 9504\n",
              "calculated_host_listings_count       0\n",
              "availability_365                     0\n",
              "number_of_reviews_ltm                0\n",
              "dtype: int64"
            ]
          },
          "execution_count": 10,
          "metadata": {},
          "output_type": "execute_result"
        }
      ],
      "source": [
        "kr.drop('license',axis=1,inplace=True) \n",
        "kr.drop('last_review',axis=1,inplace=True)\n",
        "kr.isnull().sum()"
      ]
    },
    {
      "cell_type": "code",
      "execution_count": 11,
      "metadata": {
        "colab": {
          "base_uri": "https://localhost:8080/",
          "height": 765
        },
        "id": "ZGo8KscjuHbb",
        "outputId": "d5522bc0-028e-400a-dd8b-5130f750cd78"
      },
      "outputs": [
        {
          "data": {
            "text/html": [
              "\n",
              "  <div id=\"df-13b840b0-82ab-49a0-b526-d4b2b43432c0\">\n",
              "    <div class=\"colab-df-container\">\n",
              "      <div>\n",
              "<style scoped>\n",
              "    .dataframe tbody tr th:only-of-type {\n",
              "        vertical-align: middle;\n",
              "    }\n",
              "\n",
              "    .dataframe tbody tr th {\n",
              "        vertical-align: top;\n",
              "    }\n",
              "\n",
              "    .dataframe thead th {\n",
              "        text-align: right;\n",
              "    }\n",
              "</style>\n",
              "<table border=\"1\" class=\"dataframe\">\n",
              "  <thead>\n",
              "    <tr style=\"text-align: right;\">\n",
              "      <th></th>\n",
              "      <th>id</th>\n",
              "      <th>name</th>\n",
              "      <th>host_id</th>\n",
              "      <th>host_name</th>\n",
              "      <th>neighbourhood_group</th>\n",
              "      <th>neighbourhood</th>\n",
              "      <th>latitude</th>\n",
              "      <th>longitude</th>\n",
              "      <th>room_type</th>\n",
              "      <th>price</th>\n",
              "      <th>minimum_nights</th>\n",
              "      <th>number_of_reviews</th>\n",
              "      <th>reviews_per_month</th>\n",
              "      <th>calculated_host_listings_count</th>\n",
              "      <th>availability_365</th>\n",
              "      <th>number_of_reviews_ltm</th>\n",
              "    </tr>\n",
              "  </thead>\n",
              "  <tbody>\n",
              "    <tr>\n",
              "      <th>0</th>\n",
              "      <td>2595</td>\n",
              "      <td>Skylit Midtown Castle</td>\n",
              "      <td>2845</td>\n",
              "      <td>Jennifer</td>\n",
              "      <td>Manhattan</td>\n",
              "      <td>Midtown</td>\n",
              "      <td>40.753560</td>\n",
              "      <td>-73.985590</td>\n",
              "      <td>Entire home/apt</td>\n",
              "      <td>150</td>\n",
              "      <td>30</td>\n",
              "      <td>48</td>\n",
              "      <td>0.33</td>\n",
              "      <td>3</td>\n",
              "      <td>338</td>\n",
              "      <td>0</td>\n",
              "    </tr>\n",
              "    <tr>\n",
              "      <th>1</th>\n",
              "      <td>3831</td>\n",
              "      <td>Whole flr w/private bdrm, bath &amp; kitchen(pls r...</td>\n",
              "      <td>4869</td>\n",
              "      <td>LisaRoxanne</td>\n",
              "      <td>Brooklyn</td>\n",
              "      <td>Bedford-Stuyvesant</td>\n",
              "      <td>40.684940</td>\n",
              "      <td>-73.957650</td>\n",
              "      <td>Entire home/apt</td>\n",
              "      <td>75</td>\n",
              "      <td>1</td>\n",
              "      <td>409</td>\n",
              "      <td>4.86</td>\n",
              "      <td>1</td>\n",
              "      <td>194</td>\n",
              "      <td>32</td>\n",
              "    </tr>\n",
              "    <tr>\n",
              "      <th>2</th>\n",
              "      <td>5121</td>\n",
              "      <td>BlissArtsSpace!</td>\n",
              "      <td>7356</td>\n",
              "      <td>Garon</td>\n",
              "      <td>Brooklyn</td>\n",
              "      <td>Bedford-Stuyvesant</td>\n",
              "      <td>40.685350</td>\n",
              "      <td>-73.955120</td>\n",
              "      <td>Private room</td>\n",
              "      <td>60</td>\n",
              "      <td>30</td>\n",
              "      <td>50</td>\n",
              "      <td>0.52</td>\n",
              "      <td>2</td>\n",
              "      <td>365</td>\n",
              "      <td>0</td>\n",
              "    </tr>\n",
              "    <tr>\n",
              "      <th>3</th>\n",
              "      <td>5136</td>\n",
              "      <td>Spacious Brooklyn Duplex, Patio + Garden</td>\n",
              "      <td>7378</td>\n",
              "      <td>Rebecca</td>\n",
              "      <td>Brooklyn</td>\n",
              "      <td>Sunset Park</td>\n",
              "      <td>40.662650</td>\n",
              "      <td>-73.994540</td>\n",
              "      <td>Entire home/apt</td>\n",
              "      <td>275</td>\n",
              "      <td>5</td>\n",
              "      <td>2</td>\n",
              "      <td>0.02</td>\n",
              "      <td>1</td>\n",
              "      <td>123</td>\n",
              "      <td>1</td>\n",
              "    </tr>\n",
              "    <tr>\n",
              "      <th>4</th>\n",
              "      <td>5178</td>\n",
              "      <td>Large Furnished Room Near B'way</td>\n",
              "      <td>8967</td>\n",
              "      <td>Shunichi</td>\n",
              "      <td>Manhattan</td>\n",
              "      <td>Midtown</td>\n",
              "      <td>40.764570</td>\n",
              "      <td>-73.983170</td>\n",
              "      <td>Private room</td>\n",
              "      <td>68</td>\n",
              "      <td>2</td>\n",
              "      <td>507</td>\n",
              "      <td>3.68</td>\n",
              "      <td>1</td>\n",
              "      <td>192</td>\n",
              "      <td>33</td>\n",
              "    </tr>\n",
              "    <tr>\n",
              "      <th>...</th>\n",
              "      <td>...</td>\n",
              "      <td>...</td>\n",
              "      <td>...</td>\n",
              "      <td>...</td>\n",
              "      <td>...</td>\n",
              "      <td>...</td>\n",
              "      <td>...</td>\n",
              "      <td>...</td>\n",
              "      <td>...</td>\n",
              "      <td>...</td>\n",
              "      <td>...</td>\n",
              "      <td>...</td>\n",
              "      <td>...</td>\n",
              "      <td>...</td>\n",
              "      <td>...</td>\n",
              "      <td>...</td>\n",
              "    </tr>\n",
              "    <tr>\n",
              "      <th>38272</th>\n",
              "      <td>53662330</td>\n",
              "      <td>HUGE PRIVATE ROOM, AWESOME LOCATION</td>\n",
              "      <td>100146245</td>\n",
              "      <td>Serin</td>\n",
              "      <td>Staten Island</td>\n",
              "      <td>Port Richmond</td>\n",
              "      <td>40.632222</td>\n",
              "      <td>-74.136715</td>\n",
              "      <td>Private room</td>\n",
              "      <td>79</td>\n",
              "      <td>1</td>\n",
              "      <td>0</td>\n",
              "      <td>NaN</td>\n",
              "      <td>6</td>\n",
              "      <td>359</td>\n",
              "      <td>0</td>\n",
              "    </tr>\n",
              "    <tr>\n",
              "      <th>38273</th>\n",
              "      <td>53662542</td>\n",
              "      <td>LARGE PRVT ROOM, QUIET RESIDENCE PERFECTLOCATION</td>\n",
              "      <td>100146245</td>\n",
              "      <td>Serin</td>\n",
              "      <td>Staten Island</td>\n",
              "      <td>Port Richmond</td>\n",
              "      <td>40.630502</td>\n",
              "      <td>-74.136142</td>\n",
              "      <td>Private room</td>\n",
              "      <td>76</td>\n",
              "      <td>1</td>\n",
              "      <td>0</td>\n",
              "      <td>NaN</td>\n",
              "      <td>6</td>\n",
              "      <td>359</td>\n",
              "      <td>0</td>\n",
              "    </tr>\n",
              "    <tr>\n",
              "      <th>38274</th>\n",
              "      <td>53662772</td>\n",
              "      <td>King Room - Midtown Manhattan</td>\n",
              "      <td>337879004</td>\n",
              "      <td>Sinem</td>\n",
              "      <td>Manhattan</td>\n",
              "      <td>Midtown</td>\n",
              "      <td>40.753887</td>\n",
              "      <td>-73.980536</td>\n",
              "      <td>Private room</td>\n",
              "      <td>116</td>\n",
              "      <td>1</td>\n",
              "      <td>0</td>\n",
              "      <td>NaN</td>\n",
              "      <td>13</td>\n",
              "      <td>11</td>\n",
              "      <td>0</td>\n",
              "    </tr>\n",
              "    <tr>\n",
              "      <th>38275</th>\n",
              "      <td>53663081</td>\n",
              "      <td>King Room - Bryant Park.</td>\n",
              "      <td>337879004</td>\n",
              "      <td>Sinem</td>\n",
              "      <td>Manhattan</td>\n",
              "      <td>Midtown</td>\n",
              "      <td>40.755569</td>\n",
              "      <td>-73.981976</td>\n",
              "      <td>Private room</td>\n",
              "      <td>106</td>\n",
              "      <td>1</td>\n",
              "      <td>0</td>\n",
              "      <td>NaN</td>\n",
              "      <td>13</td>\n",
              "      <td>3</td>\n",
              "      <td>0</td>\n",
              "    </tr>\n",
              "    <tr>\n",
              "      <th>38276</th>\n",
              "      <td>53665099</td>\n",
              "      <td>★Luxury in the ❤of Bklyn | Fast Wi-Fi | Sleeps...</td>\n",
              "      <td>60105727</td>\n",
              "      <td>Lee</td>\n",
              "      <td>Brooklyn</td>\n",
              "      <td>Cypress Hills</td>\n",
              "      <td>40.677560</td>\n",
              "      <td>-73.894990</td>\n",
              "      <td>Entire home/apt</td>\n",
              "      <td>689</td>\n",
              "      <td>1</td>\n",
              "      <td>0</td>\n",
              "      <td>NaN</td>\n",
              "      <td>1</td>\n",
              "      <td>312</td>\n",
              "      <td>0</td>\n",
              "    </tr>\n",
              "  </tbody>\n",
              "</table>\n",
              "<p>38277 rows × 16 columns</p>\n",
              "</div>\n",
              "      <button class=\"colab-df-convert\" onclick=\"convertToInteractive('df-13b840b0-82ab-49a0-b526-d4b2b43432c0')\"\n",
              "              title=\"Convert this dataframe to an interactive table.\"\n",
              "              style=\"display:none;\">\n",
              "        \n",
              "  <svg xmlns=\"http://www.w3.org/2000/svg\" height=\"24px\"viewBox=\"0 0 24 24\"\n",
              "       width=\"24px\">\n",
              "    <path d=\"M0 0h24v24H0V0z\" fill=\"none\"/>\n",
              "    <path d=\"M18.56 5.44l.94 2.06.94-2.06 2.06-.94-2.06-.94-.94-2.06-.94 2.06-2.06.94zm-11 1L8.5 8.5l.94-2.06 2.06-.94-2.06-.94L8.5 2.5l-.94 2.06-2.06.94zm10 10l.94 2.06.94-2.06 2.06-.94-2.06-.94-.94-2.06-.94 2.06-2.06.94z\"/><path d=\"M17.41 7.96l-1.37-1.37c-.4-.4-.92-.59-1.43-.59-.52 0-1.04.2-1.43.59L10.3 9.45l-7.72 7.72c-.78.78-.78 2.05 0 2.83L4 21.41c.39.39.9.59 1.41.59.51 0 1.02-.2 1.41-.59l7.78-7.78 2.81-2.81c.8-.78.8-2.07 0-2.86zM5.41 20L4 18.59l7.72-7.72 1.47 1.35L5.41 20z\"/>\n",
              "  </svg>\n",
              "      </button>\n",
              "      \n",
              "  <style>\n",
              "    .colab-df-container {\n",
              "      display:flex;\n",
              "      flex-wrap:wrap;\n",
              "      gap: 12px;\n",
              "    }\n",
              "\n",
              "    .colab-df-convert {\n",
              "      background-color: #E8F0FE;\n",
              "      border: none;\n",
              "      border-radius: 50%;\n",
              "      cursor: pointer;\n",
              "      display: none;\n",
              "      fill: #1967D2;\n",
              "      height: 32px;\n",
              "      padding: 0 0 0 0;\n",
              "      width: 32px;\n",
              "    }\n",
              "\n",
              "    .colab-df-convert:hover {\n",
              "      background-color: #E2EBFA;\n",
              "      box-shadow: 0px 1px 2px rgba(60, 64, 67, 0.3), 0px 1px 3px 1px rgba(60, 64, 67, 0.15);\n",
              "      fill: #174EA6;\n",
              "    }\n",
              "\n",
              "    [theme=dark] .colab-df-convert {\n",
              "      background-color: #3B4455;\n",
              "      fill: #D2E3FC;\n",
              "    }\n",
              "\n",
              "    [theme=dark] .colab-df-convert:hover {\n",
              "      background-color: #434B5C;\n",
              "      box-shadow: 0px 1px 3px 1px rgba(0, 0, 0, 0.15);\n",
              "      filter: drop-shadow(0px 1px 2px rgba(0, 0, 0, 0.3));\n",
              "      fill: #FFFFFF;\n",
              "    }\n",
              "  </style>\n",
              "\n",
              "      <script>\n",
              "        const buttonEl =\n",
              "          document.querySelector('#df-13b840b0-82ab-49a0-b526-d4b2b43432c0 button.colab-df-convert');\n",
              "        buttonEl.style.display =\n",
              "          google.colab.kernel.accessAllowed ? 'block' : 'none';\n",
              "\n",
              "        async function convertToInteractive(key) {\n",
              "          const element = document.querySelector('#df-13b840b0-82ab-49a0-b526-d4b2b43432c0');\n",
              "          const dataTable =\n",
              "            await google.colab.kernel.invokeFunction('convertToInteractive',\n",
              "                                                     [key], {});\n",
              "          if (!dataTable) return;\n",
              "\n",
              "          const docLinkHtml = 'Like what you see? Visit the ' +\n",
              "            '<a target=\"_blank\" href=https://colab.research.google.com/notebooks/data_table.ipynb>data table notebook</a>'\n",
              "            + ' to learn more about interactive tables.';\n",
              "          element.innerHTML = '';\n",
              "          dataTable['output_type'] = 'display_data';\n",
              "          await google.colab.output.renderOutput(dataTable, element);\n",
              "          const docLink = document.createElement('div');\n",
              "          docLink.innerHTML = docLinkHtml;\n",
              "          element.appendChild(docLink);\n",
              "        }\n",
              "      </script>\n",
              "    </div>\n",
              "  </div>\n",
              "  "
            ],
            "text/plain": [
              "             id                                               name    host_id  \\\n",
              "0          2595                              Skylit Midtown Castle       2845   \n",
              "1          3831  Whole flr w/private bdrm, bath & kitchen(pls r...       4869   \n",
              "2          5121                                    BlissArtsSpace!       7356   \n",
              "3          5136           Spacious Brooklyn Duplex, Patio + Garden       7378   \n",
              "4          5178                   Large Furnished Room Near B'way　       8967   \n",
              "...         ...                                                ...        ...   \n",
              "38272  53662330                HUGE PRIVATE ROOM, AWESOME LOCATION  100146245   \n",
              "38273  53662542   LARGE PRVT ROOM, QUIET RESIDENCE PERFECTLOCATION  100146245   \n",
              "38274  53662772                      King Room - Midtown Manhattan  337879004   \n",
              "38275  53663081                           King Room - Bryant Park.  337879004   \n",
              "38276  53665099  ★Luxury in the ❤of Bklyn | Fast Wi-Fi | Sleeps...   60105727   \n",
              "\n",
              "         host_name neighbourhood_group       neighbourhood   latitude  \\\n",
              "0         Jennifer           Manhattan             Midtown  40.753560   \n",
              "1      LisaRoxanne            Brooklyn  Bedford-Stuyvesant  40.684940   \n",
              "2            Garon            Brooklyn  Bedford-Stuyvesant  40.685350   \n",
              "3          Rebecca            Brooklyn         Sunset Park  40.662650   \n",
              "4         Shunichi           Manhattan             Midtown  40.764570   \n",
              "...            ...                 ...                 ...        ...   \n",
              "38272        Serin       Staten Island       Port Richmond  40.632222   \n",
              "38273        Serin       Staten Island       Port Richmond  40.630502   \n",
              "38274        Sinem           Manhattan             Midtown  40.753887   \n",
              "38275        Sinem           Manhattan             Midtown  40.755569   \n",
              "38276          Lee            Brooklyn       Cypress Hills  40.677560   \n",
              "\n",
              "       longitude        room_type  price  minimum_nights  number_of_reviews  \\\n",
              "0     -73.985590  Entire home/apt    150              30                 48   \n",
              "1     -73.957650  Entire home/apt     75               1                409   \n",
              "2     -73.955120     Private room     60              30                 50   \n",
              "3     -73.994540  Entire home/apt    275               5                  2   \n",
              "4     -73.983170     Private room     68               2                507   \n",
              "...          ...              ...    ...             ...                ...   \n",
              "38272 -74.136715     Private room     79               1                  0   \n",
              "38273 -74.136142     Private room     76               1                  0   \n",
              "38274 -73.980536     Private room    116               1                  0   \n",
              "38275 -73.981976     Private room    106               1                  0   \n",
              "38276 -73.894990  Entire home/apt    689               1                  0   \n",
              "\n",
              "       reviews_per_month  calculated_host_listings_count  availability_365  \\\n",
              "0                   0.33                               3               338   \n",
              "1                   4.86                               1               194   \n",
              "2                   0.52                               2               365   \n",
              "3                   0.02                               1               123   \n",
              "4                   3.68                               1               192   \n",
              "...                  ...                             ...               ...   \n",
              "38272                NaN                               6               359   \n",
              "38273                NaN                               6               359   \n",
              "38274                NaN                              13                11   \n",
              "38275                NaN                              13                 3   \n",
              "38276                NaN                               1               312   \n",
              "\n",
              "       number_of_reviews_ltm  \n",
              "0                          0  \n",
              "1                         32  \n",
              "2                          0  \n",
              "3                          1  \n",
              "4                         33  \n",
              "...                      ...  \n",
              "38272                      0  \n",
              "38273                      0  \n",
              "38274                      0  \n",
              "38275                      0  \n",
              "38276                      0  \n",
              "\n",
              "[38277 rows x 16 columns]"
            ]
          },
          "execution_count": 11,
          "metadata": {},
          "output_type": "execute_result"
        }
      ],
      "source": [
        "kr.drop_duplicates()"
      ]
    },
    {
      "cell_type": "code",
      "execution_count": 12,
      "metadata": {
        "colab": {
          "base_uri": "https://localhost:8080/"
        },
        "id": "ywlwKIURtOo-",
        "outputId": "22b86dab-695f-45bf-c187-4fc4a9b71faa"
      },
      "outputs": [
        {
          "data": {
            "text/plain": [
              "id                                   0\n",
              "name                                13\n",
              "host_id                              0\n",
              "host_name                           34\n",
              "neighbourhood_group                  0\n",
              "neighbourhood                        0\n",
              "latitude                             0\n",
              "longitude                            0\n",
              "room_type                            0\n",
              "price                                0\n",
              "minimum_nights                       0\n",
              "number_of_reviews                    0\n",
              "reviews_per_month                 9504\n",
              "calculated_host_listings_count       0\n",
              "availability_365                     0\n",
              "number_of_reviews_ltm                0\n",
              "dtype: int64"
            ]
          },
          "execution_count": 12,
          "metadata": {},
          "output_type": "execute_result"
        }
      ],
      "source": [
        "kr.isnull().sum()"
      ]
    },
    {
      "cell_type": "code",
      "execution_count": 13,
      "metadata": {
        "id": "3RxuziOExMJj"
      },
      "outputs": [],
      "source": [
        "data=kr.dropna()"
      ]
    },
    {
      "cell_type": "code",
      "execution_count": 14,
      "metadata": {
        "colab": {
          "base_uri": "https://localhost:8080/"
        },
        "id": "9YHTvQjnxRAU",
        "outputId": "2b519c76-91b8-4be0-ddd4-7727e6861168"
      },
      "outputs": [
        {
          "data": {
            "text/plain": [
              "id                                0\n",
              "name                              0\n",
              "host_id                           0\n",
              "host_name                         0\n",
              "neighbourhood_group               0\n",
              "neighbourhood                     0\n",
              "latitude                          0\n",
              "longitude                         0\n",
              "room_type                         0\n",
              "price                             0\n",
              "minimum_nights                    0\n",
              "number_of_reviews                 0\n",
              "reviews_per_month                 0\n",
              "calculated_host_listings_count    0\n",
              "availability_365                  0\n",
              "number_of_reviews_ltm             0\n",
              "dtype: int64"
            ]
          },
          "execution_count": 14,
          "metadata": {},
          "output_type": "execute_result"
        }
      ],
      "source": [
        "data.isnull().sum()"
      ]
    },
    {
      "cell_type": "code",
      "execution_count": 15,
      "metadata": {
        "colab": {
          "base_uri": "https://localhost:8080/"
        },
        "id": "NfZ87ngtxf9s",
        "outputId": "e01a3b8b-31a5-4739-dedd-dd72e4270803"
      },
      "outputs": [
        {
          "data": {
            "text/plain": [
              "(28747, 16)"
            ]
          },
          "execution_count": 15,
          "metadata": {},
          "output_type": "execute_result"
        }
      ],
      "source": [
        "data.shape"
      ]
    },
    {
      "cell_type": "code",
      "execution_count": 16,
      "metadata": {
        "colab": {
          "base_uri": "https://localhost:8080/"
        },
        "id": "9iQEjC4nohmZ",
        "outputId": "a6e632e2-4fbd-4640-d9bd-fac935488904"
      },
      "outputs": [
        {
          "data": {
            "text/plain": [
              "June              431\n",
              "Blueground        308\n",
              "Michael           307\n",
              "Karen             286\n",
              "David             235\n",
              "                 ... \n",
              "Sam And Masha       1\n",
              "Giada               1\n",
              "Deeksha             1\n",
              "Simon & Jessie      1\n",
              "Maxinne             1\n",
              "Name: host_name, Length: 9123, dtype: int64"
            ]
          },
          "execution_count": 16,
          "metadata": {},
          "output_type": "execute_result"
        }
      ],
      "source": [
        "kr['host_name'].value_counts()"
      ]
    },
    {
      "cell_type": "code",
      "execution_count": 17,
      "metadata": {
        "colab": {
          "base_uri": "https://localhost:8080/",
          "height": 364
        },
        "id": "iI6VY2rxsSFu",
        "outputId": "802dc85e-6eeb-4b35-9650-dba4ac6d3349"
      },
      "outputs": [
        {
          "data": {
            "text/html": [
              "\n",
              "  <div id=\"df-832332a0-037c-464e-b21e-0dbab01f0b50\">\n",
              "    <div class=\"colab-df-container\">\n",
              "      <div>\n",
              "<style scoped>\n",
              "    .dataframe tbody tr th:only-of-type {\n",
              "        vertical-align: middle;\n",
              "    }\n",
              "\n",
              "    .dataframe tbody tr th {\n",
              "        vertical-align: top;\n",
              "    }\n",
              "\n",
              "    .dataframe thead th {\n",
              "        text-align: right;\n",
              "    }\n",
              "</style>\n",
              "<table border=\"1\" class=\"dataframe\">\n",
              "  <thead>\n",
              "    <tr style=\"text-align: right;\">\n",
              "      <th></th>\n",
              "      <th>id</th>\n",
              "      <th>host_id</th>\n",
              "      <th>latitude</th>\n",
              "      <th>longitude</th>\n",
              "      <th>price</th>\n",
              "      <th>minimum_nights</th>\n",
              "      <th>number_of_reviews</th>\n",
              "      <th>reviews_per_month</th>\n",
              "      <th>calculated_host_listings_count</th>\n",
              "      <th>availability_365</th>\n",
              "      <th>number_of_reviews_ltm</th>\n",
              "    </tr>\n",
              "  </thead>\n",
              "  <tbody>\n",
              "    <tr>\n",
              "      <th>count</th>\n",
              "      <td>2.874700e+04</td>\n",
              "      <td>2.874700e+04</td>\n",
              "      <td>28747.000000</td>\n",
              "      <td>28747.000000</td>\n",
              "      <td>28747.000000</td>\n",
              "      <td>28747.000000</td>\n",
              "      <td>28747.000000</td>\n",
              "      <td>28747.000000</td>\n",
              "      <td>28747.000000</td>\n",
              "      <td>28747.000000</td>\n",
              "      <td>28747.000000</td>\n",
              "    </tr>\n",
              "    <tr>\n",
              "      <th>mean</th>\n",
              "      <td>2.732305e+07</td>\n",
              "      <td>1.057712e+08</td>\n",
              "      <td>40.727828</td>\n",
              "      <td>-73.947488</td>\n",
              "      <td>161.656660</td>\n",
              "      <td>18.923749</td>\n",
              "      <td>30.996695</td>\n",
              "      <td>1.722088</td>\n",
              "      <td>9.395798</td>\n",
              "      <td>128.236059</td>\n",
              "      <td>6.697325</td>\n",
              "    </tr>\n",
              "    <tr>\n",
              "      <th>std</th>\n",
              "      <td>1.690532e+07</td>\n",
              "      <td>1.244503e+08</td>\n",
              "      <td>0.056436</td>\n",
              "      <td>0.051857</td>\n",
              "      <td>271.149485</td>\n",
              "      <td>25.628061</td>\n",
              "      <td>56.038386</td>\n",
              "      <td>4.401544</td>\n",
              "      <td>31.878020</td>\n",
              "      <td>138.932583</td>\n",
              "      <td>16.620953</td>\n",
              "    </tr>\n",
              "    <tr>\n",
              "      <th>min</th>\n",
              "      <td>2.595000e+03</td>\n",
              "      <td>2.438000e+03</td>\n",
              "      <td>40.504560</td>\n",
              "      <td>-74.249840</td>\n",
              "      <td>0.000000</td>\n",
              "      <td>1.000000</td>\n",
              "      <td>1.000000</td>\n",
              "      <td>0.010000</td>\n",
              "      <td>1.000000</td>\n",
              "      <td>0.000000</td>\n",
              "      <td>0.000000</td>\n",
              "    </tr>\n",
              "    <tr>\n",
              "      <th>25%</th>\n",
              "      <td>1.223253e+07</td>\n",
              "      <td>1.010881e+07</td>\n",
              "      <td>40.687515</td>\n",
              "      <td>-73.982540</td>\n",
              "      <td>70.000000</td>\n",
              "      <td>2.000000</td>\n",
              "      <td>3.000000</td>\n",
              "      <td>0.120000</td>\n",
              "      <td>1.000000</td>\n",
              "      <td>0.000000</td>\n",
              "      <td>0.000000</td>\n",
              "    </tr>\n",
              "    <tr>\n",
              "      <th>50%</th>\n",
              "      <td>2.714119e+07</td>\n",
              "      <td>4.537660e+07</td>\n",
              "      <td>40.722700</td>\n",
              "      <td>-73.953770</td>\n",
              "      <td>115.000000</td>\n",
              "      <td>30.000000</td>\n",
              "      <td>9.000000</td>\n",
              "      <td>0.480000</td>\n",
              "      <td>1.000000</td>\n",
              "      <td>69.000000</td>\n",
              "      <td>1.000000</td>\n",
              "    </tr>\n",
              "    <tr>\n",
              "      <th>75%</th>\n",
              "      <td>4.304470e+07</td>\n",
              "      <td>1.678301e+08</td>\n",
              "      <td>40.762300</td>\n",
              "      <td>-73.929110</td>\n",
              "      <td>180.000000</td>\n",
              "      <td>30.000000</td>\n",
              "      <td>32.000000</td>\n",
              "      <td>1.780000</td>\n",
              "      <td>3.000000</td>\n",
              "      <td>276.000000</td>\n",
              "      <td>6.000000</td>\n",
              "    </tr>\n",
              "    <tr>\n",
              "      <th>max</th>\n",
              "      <td>5.364807e+07</td>\n",
              "      <td>4.344080e+08</td>\n",
              "      <td>40.913100</td>\n",
              "      <td>-73.710870</td>\n",
              "      <td>10000.000000</td>\n",
              "      <td>1250.000000</td>\n",
              "      <td>1009.000000</td>\n",
              "      <td>141.000000</td>\n",
              "      <td>421.000000</td>\n",
              "      <td>365.000000</td>\n",
              "      <td>669.000000</td>\n",
              "    </tr>\n",
              "  </tbody>\n",
              "</table>\n",
              "</div>\n",
              "      <button class=\"colab-df-convert\" onclick=\"convertToInteractive('df-832332a0-037c-464e-b21e-0dbab01f0b50')\"\n",
              "              title=\"Convert this dataframe to an interactive table.\"\n",
              "              style=\"display:none;\">\n",
              "        \n",
              "  <svg xmlns=\"http://www.w3.org/2000/svg\" height=\"24px\"viewBox=\"0 0 24 24\"\n",
              "       width=\"24px\">\n",
              "    <path d=\"M0 0h24v24H0V0z\" fill=\"none\"/>\n",
              "    <path d=\"M18.56 5.44l.94 2.06.94-2.06 2.06-.94-2.06-.94-.94-2.06-.94 2.06-2.06.94zm-11 1L8.5 8.5l.94-2.06 2.06-.94-2.06-.94L8.5 2.5l-.94 2.06-2.06.94zm10 10l.94 2.06.94-2.06 2.06-.94-2.06-.94-.94-2.06-.94 2.06-2.06.94z\"/><path d=\"M17.41 7.96l-1.37-1.37c-.4-.4-.92-.59-1.43-.59-.52 0-1.04.2-1.43.59L10.3 9.45l-7.72 7.72c-.78.78-.78 2.05 0 2.83L4 21.41c.39.39.9.59 1.41.59.51 0 1.02-.2 1.41-.59l7.78-7.78 2.81-2.81c.8-.78.8-2.07 0-2.86zM5.41 20L4 18.59l7.72-7.72 1.47 1.35L5.41 20z\"/>\n",
              "  </svg>\n",
              "      </button>\n",
              "      \n",
              "  <style>\n",
              "    .colab-df-container {\n",
              "      display:flex;\n",
              "      flex-wrap:wrap;\n",
              "      gap: 12px;\n",
              "    }\n",
              "\n",
              "    .colab-df-convert {\n",
              "      background-color: #E8F0FE;\n",
              "      border: none;\n",
              "      border-radius: 50%;\n",
              "      cursor: pointer;\n",
              "      display: none;\n",
              "      fill: #1967D2;\n",
              "      height: 32px;\n",
              "      padding: 0 0 0 0;\n",
              "      width: 32px;\n",
              "    }\n",
              "\n",
              "    .colab-df-convert:hover {\n",
              "      background-color: #E2EBFA;\n",
              "      box-shadow: 0px 1px 2px rgba(60, 64, 67, 0.3), 0px 1px 3px 1px rgba(60, 64, 67, 0.15);\n",
              "      fill: #174EA6;\n",
              "    }\n",
              "\n",
              "    [theme=dark] .colab-df-convert {\n",
              "      background-color: #3B4455;\n",
              "      fill: #D2E3FC;\n",
              "    }\n",
              "\n",
              "    [theme=dark] .colab-df-convert:hover {\n",
              "      background-color: #434B5C;\n",
              "      box-shadow: 0px 1px 3px 1px rgba(0, 0, 0, 0.15);\n",
              "      filter: drop-shadow(0px 1px 2px rgba(0, 0, 0, 0.3));\n",
              "      fill: #FFFFFF;\n",
              "    }\n",
              "  </style>\n",
              "\n",
              "      <script>\n",
              "        const buttonEl =\n",
              "          document.querySelector('#df-832332a0-037c-464e-b21e-0dbab01f0b50 button.colab-df-convert');\n",
              "        buttonEl.style.display =\n",
              "          google.colab.kernel.accessAllowed ? 'block' : 'none';\n",
              "\n",
              "        async function convertToInteractive(key) {\n",
              "          const element = document.querySelector('#df-832332a0-037c-464e-b21e-0dbab01f0b50');\n",
              "          const dataTable =\n",
              "            await google.colab.kernel.invokeFunction('convertToInteractive',\n",
              "                                                     [key], {});\n",
              "          if (!dataTable) return;\n",
              "\n",
              "          const docLinkHtml = 'Like what you see? Visit the ' +\n",
              "            '<a target=\"_blank\" href=https://colab.research.google.com/notebooks/data_table.ipynb>data table notebook</a>'\n",
              "            + ' to learn more about interactive tables.';\n",
              "          element.innerHTML = '';\n",
              "          dataTable['output_type'] = 'display_data';\n",
              "          await google.colab.output.renderOutput(dataTable, element);\n",
              "          const docLink = document.createElement('div');\n",
              "          docLink.innerHTML = docLinkHtml;\n",
              "          element.appendChild(docLink);\n",
              "        }\n",
              "      </script>\n",
              "    </div>\n",
              "  </div>\n",
              "  "
            ],
            "text/plain": [
              "                 id       host_id      latitude     longitude         price  \\\n",
              "count  2.874700e+04  2.874700e+04  28747.000000  28747.000000  28747.000000   \n",
              "mean   2.732305e+07  1.057712e+08     40.727828    -73.947488    161.656660   \n",
              "std    1.690532e+07  1.244503e+08      0.056436      0.051857    271.149485   \n",
              "min    2.595000e+03  2.438000e+03     40.504560    -74.249840      0.000000   \n",
              "25%    1.223253e+07  1.010881e+07     40.687515    -73.982540     70.000000   \n",
              "50%    2.714119e+07  4.537660e+07     40.722700    -73.953770    115.000000   \n",
              "75%    4.304470e+07  1.678301e+08     40.762300    -73.929110    180.000000   \n",
              "max    5.364807e+07  4.344080e+08     40.913100    -73.710870  10000.000000   \n",
              "\n",
              "       minimum_nights  number_of_reviews  reviews_per_month  \\\n",
              "count    28747.000000       28747.000000       28747.000000   \n",
              "mean        18.923749          30.996695           1.722088   \n",
              "std         25.628061          56.038386           4.401544   \n",
              "min          1.000000           1.000000           0.010000   \n",
              "25%          2.000000           3.000000           0.120000   \n",
              "50%         30.000000           9.000000           0.480000   \n",
              "75%         30.000000          32.000000           1.780000   \n",
              "max       1250.000000        1009.000000         141.000000   \n",
              "\n",
              "       calculated_host_listings_count  availability_365  number_of_reviews_ltm  \n",
              "count                    28747.000000      28747.000000           28747.000000  \n",
              "mean                         9.395798        128.236059               6.697325  \n",
              "std                         31.878020        138.932583              16.620953  \n",
              "min                          1.000000          0.000000               0.000000  \n",
              "25%                          1.000000          0.000000               0.000000  \n",
              "50%                          1.000000         69.000000               1.000000  \n",
              "75%                          3.000000        276.000000               6.000000  \n",
              "max                        421.000000        365.000000             669.000000  "
            ]
          },
          "execution_count": 17,
          "metadata": {},
          "output_type": "execute_result"
        }
      ],
      "source": [
        "data.describe()"
      ]
    },
    {
      "cell_type": "code",
      "execution_count": 18,
      "metadata": {
        "colab": {
          "base_uri": "https://localhost:8080/",
          "height": 458
        },
        "id": "4sKEnT9axz6B",
        "outputId": "b924895e-d6dd-4d8e-a8a2-6296bbc87491"
      },
      "outputs": [
        {
          "data": {
            "text/html": [
              "\n",
              "  <div id=\"df-aedd840d-ad2b-4a47-87dc-9c334519c3dd\">\n",
              "    <div class=\"colab-df-container\">\n",
              "      <div>\n",
              "<style scoped>\n",
              "    .dataframe tbody tr th:only-of-type {\n",
              "        vertical-align: middle;\n",
              "    }\n",
              "\n",
              "    .dataframe tbody tr th {\n",
              "        vertical-align: top;\n",
              "    }\n",
              "\n",
              "    .dataframe thead th {\n",
              "        text-align: right;\n",
              "    }\n",
              "</style>\n",
              "<table border=\"1\" class=\"dataframe\">\n",
              "  <thead>\n",
              "    <tr style=\"text-align: right;\">\n",
              "      <th></th>\n",
              "      <th>id</th>\n",
              "      <th>host_id</th>\n",
              "      <th>latitude</th>\n",
              "      <th>longitude</th>\n",
              "      <th>price</th>\n",
              "      <th>minimum_nights</th>\n",
              "      <th>number_of_reviews</th>\n",
              "      <th>reviews_per_month</th>\n",
              "      <th>calculated_host_listings_count</th>\n",
              "      <th>availability_365</th>\n",
              "      <th>number_of_reviews_ltm</th>\n",
              "    </tr>\n",
              "  </thead>\n",
              "  <tbody>\n",
              "    <tr>\n",
              "      <th>id</th>\n",
              "      <td>1.000000</td>\n",
              "      <td>0.602007</td>\n",
              "      <td>-0.003356</td>\n",
              "      <td>0.108250</td>\n",
              "      <td>0.048138</td>\n",
              "      <td>-0.220280</td>\n",
              "      <td>-0.284123</td>\n",
              "      <td>0.231693</td>\n",
              "      <td>0.178001</td>\n",
              "      <td>0.183561</td>\n",
              "      <td>0.148899</td>\n",
              "    </tr>\n",
              "    <tr>\n",
              "      <th>host_id</th>\n",
              "      <td>0.602007</td>\n",
              "      <td>1.000000</td>\n",
              "      <td>0.027384</td>\n",
              "      <td>0.129442</td>\n",
              "      <td>0.040767</td>\n",
              "      <td>-0.167716</td>\n",
              "      <td>-0.112020</td>\n",
              "      <td>0.208454</td>\n",
              "      <td>0.104374</td>\n",
              "      <td>0.223654</td>\n",
              "      <td>0.170436</td>\n",
              "    </tr>\n",
              "    <tr>\n",
              "      <th>latitude</th>\n",
              "      <td>-0.003356</td>\n",
              "      <td>0.027384</td>\n",
              "      <td>1.000000</td>\n",
              "      <td>0.059352</td>\n",
              "      <td>0.021884</td>\n",
              "      <td>0.044234</td>\n",
              "      <td>-0.043365</td>\n",
              "      <td>-0.036662</td>\n",
              "      <td>0.059169</td>\n",
              "      <td>0.002442</td>\n",
              "      <td>-0.046931</td>\n",
              "    </tr>\n",
              "    <tr>\n",
              "      <th>longitude</th>\n",
              "      <td>0.108250</td>\n",
              "      <td>0.129442</td>\n",
              "      <td>0.059352</td>\n",
              "      <td>1.000000</td>\n",
              "      <td>-0.115615</td>\n",
              "      <td>-0.091135</td>\n",
              "      <td>0.063314</td>\n",
              "      <td>0.071078</td>\n",
              "      <td>-0.077738</td>\n",
              "      <td>0.140408</td>\n",
              "      <td>0.062889</td>\n",
              "    </tr>\n",
              "    <tr>\n",
              "      <th>price</th>\n",
              "      <td>0.048138</td>\n",
              "      <td>0.040767</td>\n",
              "      <td>0.021884</td>\n",
              "      <td>-0.115615</td>\n",
              "      <td>1.000000</td>\n",
              "      <td>-0.032801</td>\n",
              "      <td>-0.025684</td>\n",
              "      <td>0.008279</td>\n",
              "      <td>0.006346</td>\n",
              "      <td>0.083424</td>\n",
              "      <td>0.017866</td>\n",
              "    </tr>\n",
              "    <tr>\n",
              "      <th>minimum_nights</th>\n",
              "      <td>-0.220280</td>\n",
              "      <td>-0.167716</td>\n",
              "      <td>0.044234</td>\n",
              "      <td>-0.091135</td>\n",
              "      <td>-0.032801</td>\n",
              "      <td>1.000000</td>\n",
              "      <td>-0.141668</td>\n",
              "      <td>-0.188965</td>\n",
              "      <td>0.017478</td>\n",
              "      <td>-0.089697</td>\n",
              "      <td>-0.235962</td>\n",
              "    </tr>\n",
              "    <tr>\n",
              "      <th>number_of_reviews</th>\n",
              "      <td>-0.284123</td>\n",
              "      <td>-0.112020</td>\n",
              "      <td>-0.043365</td>\n",
              "      <td>0.063314</td>\n",
              "      <td>-0.025684</td>\n",
              "      <td>-0.141668</td>\n",
              "      <td>1.000000</td>\n",
              "      <td>0.277291</td>\n",
              "      <td>-0.094964</td>\n",
              "      <td>0.142521</td>\n",
              "      <td>0.551125</td>\n",
              "    </tr>\n",
              "    <tr>\n",
              "      <th>reviews_per_month</th>\n",
              "      <td>0.231693</td>\n",
              "      <td>0.208454</td>\n",
              "      <td>-0.036662</td>\n",
              "      <td>0.071078</td>\n",
              "      <td>0.008279</td>\n",
              "      <td>-0.188965</td>\n",
              "      <td>0.277291</td>\n",
              "      <td>1.000000</td>\n",
              "      <td>0.011443</td>\n",
              "      <td>0.142453</td>\n",
              "      <td>0.593884</td>\n",
              "    </tr>\n",
              "    <tr>\n",
              "      <th>calculated_host_listings_count</th>\n",
              "      <td>0.178001</td>\n",
              "      <td>0.104374</td>\n",
              "      <td>0.059169</td>\n",
              "      <td>-0.077738</td>\n",
              "      <td>0.006346</td>\n",
              "      <td>0.017478</td>\n",
              "      <td>-0.094964</td>\n",
              "      <td>0.011443</td>\n",
              "      <td>1.000000</td>\n",
              "      <td>0.132111</td>\n",
              "      <td>-0.006995</td>\n",
              "    </tr>\n",
              "    <tr>\n",
              "      <th>availability_365</th>\n",
              "      <td>0.183561</td>\n",
              "      <td>0.223654</td>\n",
              "      <td>0.002442</td>\n",
              "      <td>0.140408</td>\n",
              "      <td>0.083424</td>\n",
              "      <td>-0.089697</td>\n",
              "      <td>0.142521</td>\n",
              "      <td>0.142453</td>\n",
              "      <td>0.132111</td>\n",
              "      <td>1.000000</td>\n",
              "      <td>0.168336</td>\n",
              "    </tr>\n",
              "    <tr>\n",
              "      <th>number_of_reviews_ltm</th>\n",
              "      <td>0.148899</td>\n",
              "      <td>0.170436</td>\n",
              "      <td>-0.046931</td>\n",
              "      <td>0.062889</td>\n",
              "      <td>0.017866</td>\n",
              "      <td>-0.235962</td>\n",
              "      <td>0.551125</td>\n",
              "      <td>0.593884</td>\n",
              "      <td>-0.006995</td>\n",
              "      <td>0.168336</td>\n",
              "      <td>1.000000</td>\n",
              "    </tr>\n",
              "  </tbody>\n",
              "</table>\n",
              "</div>\n",
              "      <button class=\"colab-df-convert\" onclick=\"convertToInteractive('df-aedd840d-ad2b-4a47-87dc-9c334519c3dd')\"\n",
              "              title=\"Convert this dataframe to an interactive table.\"\n",
              "              style=\"display:none;\">\n",
              "        \n",
              "  <svg xmlns=\"http://www.w3.org/2000/svg\" height=\"24px\"viewBox=\"0 0 24 24\"\n",
              "       width=\"24px\">\n",
              "    <path d=\"M0 0h24v24H0V0z\" fill=\"none\"/>\n",
              "    <path d=\"M18.56 5.44l.94 2.06.94-2.06 2.06-.94-2.06-.94-.94-2.06-.94 2.06-2.06.94zm-11 1L8.5 8.5l.94-2.06 2.06-.94-2.06-.94L8.5 2.5l-.94 2.06-2.06.94zm10 10l.94 2.06.94-2.06 2.06-.94-2.06-.94-.94-2.06-.94 2.06-2.06.94z\"/><path d=\"M17.41 7.96l-1.37-1.37c-.4-.4-.92-.59-1.43-.59-.52 0-1.04.2-1.43.59L10.3 9.45l-7.72 7.72c-.78.78-.78 2.05 0 2.83L4 21.41c.39.39.9.59 1.41.59.51 0 1.02-.2 1.41-.59l7.78-7.78 2.81-2.81c.8-.78.8-2.07 0-2.86zM5.41 20L4 18.59l7.72-7.72 1.47 1.35L5.41 20z\"/>\n",
              "  </svg>\n",
              "      </button>\n",
              "      \n",
              "  <style>\n",
              "    .colab-df-container {\n",
              "      display:flex;\n",
              "      flex-wrap:wrap;\n",
              "      gap: 12px;\n",
              "    }\n",
              "\n",
              "    .colab-df-convert {\n",
              "      background-color: #E8F0FE;\n",
              "      border: none;\n",
              "      border-radius: 50%;\n",
              "      cursor: pointer;\n",
              "      display: none;\n",
              "      fill: #1967D2;\n",
              "      height: 32px;\n",
              "      padding: 0 0 0 0;\n",
              "      width: 32px;\n",
              "    }\n",
              "\n",
              "    .colab-df-convert:hover {\n",
              "      background-color: #E2EBFA;\n",
              "      box-shadow: 0px 1px 2px rgba(60, 64, 67, 0.3), 0px 1px 3px 1px rgba(60, 64, 67, 0.15);\n",
              "      fill: #174EA6;\n",
              "    }\n",
              "\n",
              "    [theme=dark] .colab-df-convert {\n",
              "      background-color: #3B4455;\n",
              "      fill: #D2E3FC;\n",
              "    }\n",
              "\n",
              "    [theme=dark] .colab-df-convert:hover {\n",
              "      background-color: #434B5C;\n",
              "      box-shadow: 0px 1px 3px 1px rgba(0, 0, 0, 0.15);\n",
              "      filter: drop-shadow(0px 1px 2px rgba(0, 0, 0, 0.3));\n",
              "      fill: #FFFFFF;\n",
              "    }\n",
              "  </style>\n",
              "\n",
              "      <script>\n",
              "        const buttonEl =\n",
              "          document.querySelector('#df-aedd840d-ad2b-4a47-87dc-9c334519c3dd button.colab-df-convert');\n",
              "        buttonEl.style.display =\n",
              "          google.colab.kernel.accessAllowed ? 'block' : 'none';\n",
              "\n",
              "        async function convertToInteractive(key) {\n",
              "          const element = document.querySelector('#df-aedd840d-ad2b-4a47-87dc-9c334519c3dd');\n",
              "          const dataTable =\n",
              "            await google.colab.kernel.invokeFunction('convertToInteractive',\n",
              "                                                     [key], {});\n",
              "          if (!dataTable) return;\n",
              "\n",
              "          const docLinkHtml = 'Like what you see? Visit the ' +\n",
              "            '<a target=\"_blank\" href=https://colab.research.google.com/notebooks/data_table.ipynb>data table notebook</a>'\n",
              "            + ' to learn more about interactive tables.';\n",
              "          element.innerHTML = '';\n",
              "          dataTable['output_type'] = 'display_data';\n",
              "          await google.colab.output.renderOutput(dataTable, element);\n",
              "          const docLink = document.createElement('div');\n",
              "          docLink.innerHTML = docLinkHtml;\n",
              "          element.appendChild(docLink);\n",
              "        }\n",
              "      </script>\n",
              "    </div>\n",
              "  </div>\n",
              "  "
            ],
            "text/plain": [
              "                                      id   host_id  latitude  longitude  \\\n",
              "id                              1.000000  0.602007 -0.003356   0.108250   \n",
              "host_id                         0.602007  1.000000  0.027384   0.129442   \n",
              "latitude                       -0.003356  0.027384  1.000000   0.059352   \n",
              "longitude                       0.108250  0.129442  0.059352   1.000000   \n",
              "price                           0.048138  0.040767  0.021884  -0.115615   \n",
              "minimum_nights                 -0.220280 -0.167716  0.044234  -0.091135   \n",
              "number_of_reviews              -0.284123 -0.112020 -0.043365   0.063314   \n",
              "reviews_per_month               0.231693  0.208454 -0.036662   0.071078   \n",
              "calculated_host_listings_count  0.178001  0.104374  0.059169  -0.077738   \n",
              "availability_365                0.183561  0.223654  0.002442   0.140408   \n",
              "number_of_reviews_ltm           0.148899  0.170436 -0.046931   0.062889   \n",
              "\n",
              "                                   price  minimum_nights  number_of_reviews  \\\n",
              "id                              0.048138       -0.220280          -0.284123   \n",
              "host_id                         0.040767       -0.167716          -0.112020   \n",
              "latitude                        0.021884        0.044234          -0.043365   \n",
              "longitude                      -0.115615       -0.091135           0.063314   \n",
              "price                           1.000000       -0.032801          -0.025684   \n",
              "minimum_nights                 -0.032801        1.000000          -0.141668   \n",
              "number_of_reviews              -0.025684       -0.141668           1.000000   \n",
              "reviews_per_month               0.008279       -0.188965           0.277291   \n",
              "calculated_host_listings_count  0.006346        0.017478          -0.094964   \n",
              "availability_365                0.083424       -0.089697           0.142521   \n",
              "number_of_reviews_ltm           0.017866       -0.235962           0.551125   \n",
              "\n",
              "                                reviews_per_month  \\\n",
              "id                                       0.231693   \n",
              "host_id                                  0.208454   \n",
              "latitude                                -0.036662   \n",
              "longitude                                0.071078   \n",
              "price                                    0.008279   \n",
              "minimum_nights                          -0.188965   \n",
              "number_of_reviews                        0.277291   \n",
              "reviews_per_month                        1.000000   \n",
              "calculated_host_listings_count           0.011443   \n",
              "availability_365                         0.142453   \n",
              "number_of_reviews_ltm                    0.593884   \n",
              "\n",
              "                                calculated_host_listings_count  \\\n",
              "id                                                    0.178001   \n",
              "host_id                                               0.104374   \n",
              "latitude                                              0.059169   \n",
              "longitude                                            -0.077738   \n",
              "price                                                 0.006346   \n",
              "minimum_nights                                        0.017478   \n",
              "number_of_reviews                                    -0.094964   \n",
              "reviews_per_month                                     0.011443   \n",
              "calculated_host_listings_count                        1.000000   \n",
              "availability_365                                      0.132111   \n",
              "number_of_reviews_ltm                                -0.006995   \n",
              "\n",
              "                                availability_365  number_of_reviews_ltm  \n",
              "id                                      0.183561               0.148899  \n",
              "host_id                                 0.223654               0.170436  \n",
              "latitude                                0.002442              -0.046931  \n",
              "longitude                               0.140408               0.062889  \n",
              "price                                   0.083424               0.017866  \n",
              "minimum_nights                         -0.089697              -0.235962  \n",
              "number_of_reviews                       0.142521               0.551125  \n",
              "reviews_per_month                       0.142453               0.593884  \n",
              "calculated_host_listings_count          0.132111              -0.006995  \n",
              "availability_365                        1.000000               0.168336  \n",
              "number_of_reviews_ltm                   0.168336               1.000000  "
            ]
          },
          "execution_count": 18,
          "metadata": {},
          "output_type": "execute_result"
        }
      ],
      "source": [
        "data.corr()"
      ]
    },
    {
      "cell_type": "code",
      "execution_count": 19,
      "metadata": {
        "colab": {
          "base_uri": "https://localhost:8080/",
          "height": 295
        },
        "id": "NO3Y6lWjx2na",
        "outputId": "d8342be7-f77e-4dfe-c1cf-21f85b9af626"
      },
      "outputs": [
        {
          "data": {
            "text/plain": [
              "<matplotlib.axes._subplots.AxesSubplot at 0x7fc5e55ec3d0>"
            ]
          },
          "execution_count": 19,
          "metadata": {},
          "output_type": "execute_result"
        },
        {
          "data": {
            "image/png": "[encoded data removed]",
            "text/plain": [
              "<Figure size 432x288 with 1 Axes>"
            ]
          },
          "metadata": {
            "needs_background": "light"
          },
          "output_type": "display_data"
        }
      ],
      "source": [
        "data.boxplot()"
      ]
    },
    {
      "cell_type": "code",
      "execution_count": 20,
      "metadata": {
        "colab": {
          "base_uri": "https://localhost:8080/",
          "height": 295
        },
        "id": "8Z55SHWSyzwH",
        "outputId": "4f0af21a-4526-460c-b176-e83646f41438"
      },
      "outputs": [
        {
          "data": {
            "text/plain": [
              "<matplotlib.axes._subplots.AxesSubplot at 0x7fc5e506bbd0>"
            ]
          },
          "execution_count": 20,
          "metadata": {},
          "output_type": "execute_result"
        },
        {
          "data": {
            "image/png": "[encoded data removed]",
            "text/plain": [
              "<Figure size 432x288 with 1 Axes>"
            ]
          },
          "metadata": {
            "needs_background": "light"
          },
          "output_type": "display_data"
        }
      ],
      "source": [
        "data.boxplot([\"host_id\"])"
      ]
    },
    {
      "cell_type": "code",
      "execution_count": 21,
      "metadata": {
        "id": "-umpksIszDz5"
      },
      "outputs": [],
      "source": [
        "kr.to_csv('aitfinal_final_assignment.csv')"
      ]
    },
    {
      "cell_type": "code",
      "execution_count": 22,
      "metadata": {
        "id": "AxWqa2BjRHBt"
      },
      "outputs": [],
      "source": [
        "#What is the price of the Airbnb’s in different Neighborhood?"
      ]
    },
    {
      "cell_type": "code",
      "execution_count": 23,
      "metadata": {
        "colab": {
          "base_uri": "https://localhost:8080/",
          "height": 369
        },
        "id": "iab2HaL1i_Nj",
        "outputId": "b18228db-9e13-49a7-acc5-cccb73feaf8e"
      },
      "outputs": [
        {
          "data": {
            "image/png": "[encoded data removed]",
            "text/plain": [
              "<Figure size 360x360 with 1 Axes>"
            ]
          },
          "metadata": {
            "needs_background": "light"
          },
          "output_type": "display_data"
        }
      ],
      "source": [
        "g = sns.catplot(x=\"neighbourhood_group\", y=\"price\", data=kr)"
      ]
    },
    {
      "cell_type": "code",
      "execution_count": 24,
      "metadata": {
        "id": "2EFF3YSI7eEt"
      },
      "outputs": [],
      "source": [
        "kr1=kr.groupby('neighbourhood_group').sum()['availability_365']\n",
        "kr1=kr1.reset_index()"
      ]
    },
    {
      "cell_type": "code",
      "execution_count": 25,
      "metadata": {
        "id": "pkJXaiaG-F0X"
      },
      "outputs": [],
      "source": [
        "## neighbourhood_group and their availability "
      ]
    },
    {
      "cell_type": "code",
      "execution_count": 26,
      "metadata": {
        "colab": {
          "base_uri": "https://localhost:8080/",
          "height": 314
        },
        "id": "8cTgF21q7eRa",
        "outputId": "0a3e1237-f8e0-4639-9058-b8afa03ab75a"
      },
      "outputs": [
        {
          "data": {
            "text/plain": [
              "Text(0.5, 1.0, 'Neighbourhood_group and their availability')"
            ]
          },
          "execution_count": 26,
          "metadata": {},
          "output_type": "execute_result"
        },
        {
          "data": {
            "image/png": "[encoded data removed]",
            "text/plain": [
              "<Figure size 432x288 with 1 Axes>"
            ]
          },
          "metadata": {
            "needs_background": "light"
          },
          "output_type": "display_data"
        }
      ],
      "source": [
        "k=sns.barplot(x='neighbourhood_group',y='availability_365',data=kr1)\n",
        "k.set_title('Neighbourhood_group and their availability')\n"
      ]
    },
    {
      "cell_type": "code",
      "execution_count": 26,
      "metadata": {
        "id": "QNrDcibk7y6w"
      },
      "outputs": [],
      "source": []
    },
    {
      "cell_type": "code",
      "execution_count": 26,
      "metadata": {
        "id": "KAvk2c2C-HEe"
      },
      "outputs": [],
      "source": []
    }
  ],
  "metadata": {
    "colab": {
      "collapsed_sections": [],
      "name": "Aitproject\\.ipynb",
      "provenance": []
    },
    "kernelspec": {
      "display_name": "Python 3",
      "name": "python3"
    },
    "language_info": {
      "name": "python"
    }
  },
  "nbformat": 4,
  "nbformat_minor": 0
}
